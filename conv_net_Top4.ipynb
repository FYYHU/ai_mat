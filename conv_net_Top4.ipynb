{
 "cells": [
  {
   "cell_type": "code",
   "execution_count": 220,
   "metadata": {},
   "outputs": [],
   "source": [
    "import torch\n",
    "import torch.nn as nn\n",
    "from torch.utils.data import Dataset\n",
    "from torchvision.transforms import ToTensor\n",
    "from torchvision.transforms import Compose\n",
    "from torchvision import transforms\n",
    "from torch.utils.data import DataLoader\n",
    "import numpy as np\n",
    "import os\n",
    "import shutil\n",
    "from torchvision import datasets\n",
    "from torchvision.io import read_image\n",
    "import pandas as pd\n",
    "import matplotlib.pyplot as plt\n",
    "import math\n",
    "import PIL\n",
    "import seaborn as sns"
   ]
  },
  {
   "cell_type": "code",
   "execution_count": 221,
   "metadata": {},
   "outputs": [],
   "source": [
    "#shuffle ints [1,1000] and split into train/val/test with 80/10/10 split\n",
    "def shuffle_split():\n",
    "    #shuffle ints [1,1000]\n",
    "    ints = np.arange(1,1001)\n",
    "    np.random.shuffle(ints)\n",
    "    #split into train/val/test with 80/10/10 split\n",
    "    train = ints[:800]\n",
    "    val = ints[800:900]\n",
    "    test = ints[900:]\n",
    "    return train, val, test"
   ]
  },
  {
   "cell_type": "code",
   "execution_count": 222,
   "metadata": {},
   "outputs": [],
   "source": [
    "train, val, test = shuffle_split()"
   ]
  },
  {
   "cell_type": "code",
   "execution_count": 223,
   "metadata": {},
   "outputs": [],
   "source": [
    "source = \"./aloi_red4_col/png4/\"\n",
    "target = \"./data_split/\"\n",
    "\n",
    "if (not os.path.exists(target)):\n",
    "    os.mkdir(target)"
   ]
  },
  {
   "cell_type": "code",
   "execution_count": 224,
   "metadata": {},
   "outputs": [],
   "source": [
    "#copy files into train/val/test based on split\n",
    "if (not os.path.exists(target + \"train\") and not os.path.exists(target + \"val\") and not os.path.exists(target + \"test\")):\n",
    "    os.mkdir(target + \"train\")\n",
    "    os.mkdir(target + \"val\")\n",
    "    os.mkdir(target + \"test\")\n",
    "    for file in os.listdir(source):\n",
    "        if (int(file) in train):\n",
    "            for files in os.listdir(source + file):\n",
    "                shutil.copy(source + file + \"/\" + files, target + \"train/\" + files)\n",
    "        elif (int(file) in val):\n",
    "            for files in os.listdir(source + file):\n",
    "                shutil.copy(source + file + \"/\" + files, target + \"val/\" + files)\n",
    "        elif (int(file) in test):\n",
    "            for files in os.listdir(source + file):\n",
    "                shutil.copy(source + file + \"/\" + files, target + \"test/\" + files)"
   ]
  },
  {
   "cell_type": "code",
   "execution_count": 225,
   "metadata": {},
   "outputs": [],
   "source": [
    "#custom dataset class\n",
    "class Top4Dataset(Dataset):\n",
    "    def __init__(self, csv_file, root_dir, label, transform=None):\n",
    "        self.root_dir = root_dir\n",
    "        self.annotations = pd.read_csv(csv_file)\n",
    "        self.transform = transform\n",
    "        self.image_names = os.listdir(root_dir)\n",
    "        self.label = label\n",
    "    def __len__(self):\n",
    "        return len(os.listdir(self.root_dir))\n",
    "    \n",
    "    def __items_class__(self):\n",
    "        return self.label\n",
    "    def __getitem__(self, index):\n",
    "        img_name = self.image_names[index]\n",
    "        img_path = os.path.join(self.root_dir, img_name)\n",
    "        image = read_image(img_path)\n",
    "        image = image.float()\n",
    "        material_name = self.annotations.iloc[index, 1]\n",
    "        y_label = torch.tensor(self.label[material_name])\n",
    "        return (image, y_label)"
   ]
  },
  {
   "cell_type": "code",
   "execution_count": 226,
   "metadata": {},
   "outputs": [],
   "source": [
    "material_label = {\"plastic\": 0, \"metal\": 1,\"paper\": 2, \"wood\": 3, \"other\": 4}"
   ]
  },
  {
   "cell_type": "code",
   "execution_count": 227,
   "metadata": {},
   "outputs": [],
   "source": [
    "Top4Dataset_Train = Top4Dataset(csv_file = \"./top4_materials.csv\", root_dir = \"./data_split/train\", label= material_label)\n",
    "Top4Dataset_Val = Top4Dataset(csv_file = \"./top4_materials.csv\", root_dir = \"./data_split/val\", label= material_label)\n",
    "Top4Dataset_Test = Top4Dataset(csv_file = \"./top4_materials.csv\", root_dir = \"./data_split/test\", label= material_label)\n"
   ]
  },
  {
   "cell_type": "code",
   "execution_count": 228,
   "metadata": {},
   "outputs": [],
   "source": [
    "DataLoader_Train = DataLoader(dataset = Top4Dataset_Train, batch_size = 16, shuffle = True)\n",
    "DataLoader_Val = DataLoader(dataset = Top4Dataset_Val, batch_size = 16, shuffle = True)\n",
    "DataLoader_Test = DataLoader(dataset = Top4Dataset_Test, batch_size = 16, shuffle = True)"
   ]
  },
  {
   "cell_type": "code",
   "execution_count": 229,
   "metadata": {},
   "outputs": [
    {
     "name": "stdout",
     "output_type": "stream",
     "text": [
      "torch.Size([16, 3, 144, 192])\n",
      "torch.Size([16])\n"
     ]
    },
    {
     "data": {
      "text/plain": [
       "9600"
      ]
     },
     "execution_count": 229,
     "metadata": {},
     "output_type": "execute_result"
    }
   ],
   "source": [
    "for images, labels in DataLoader_Train:\n",
    "    print(images.shape)\n",
    "    print(labels.shape)\n",
    "    break\n",
    "len(DataLoader_Train.dataset)"
   ]
  },
  {
   "cell_type": "code",
   "execution_count": 230,
   "metadata": {},
   "outputs": [
    {
     "name": "stdout",
     "output_type": "stream",
     "text": [
      "Using cuda device\n",
      "ConvNeuralNetwork(\n",
      "  (conv_relu_stack): Sequential(\n",
      "    (0): Conv2d(3, 6, kernel_size=(5, 5), stride=(1, 1))\n",
      "    (1): ReLU()\n",
      "    (2): Conv2d(6, 16, kernel_size=(5, 5), stride=(1, 1))\n",
      "    (3): ReLU()\n",
      "    (4): Conv2d(16, 32, kernel_size=(5, 5), stride=(1, 1))\n",
      "    (5): ReLU()\n",
      "    (6): MaxPool2d(kernel_size=5, stride=2, padding=0, dilation=1, ceil_mode=False)\n",
      "  )\n",
      "  (flatten): Flatten(start_dim=1, end_dim=-1)\n",
      "  (linear_relu_stack): Sequential(\n",
      "    (0): Linear(in_features=180224, out_features=512, bias=True)\n",
      "    (1): ReLU()\n",
      "    (2): Linear(in_features=512, out_features=256, bias=True)\n",
      "    (3): ReLU()\n",
      "    (4): Dropout(p=0.25, inplace=False)\n",
      "    (5): Linear(in_features=256, out_features=5, bias=True)\n",
      "    (6): LogSoftmax(dim=1)\n",
      "  )\n",
      ")\n"
     ]
    }
   ],
   "source": [
    "device = \"cuda\" if torch.cuda.is_available() else \"cpu\"\n",
    "print(f\"Using {device} device\")\n",
    "\n",
    "# Define model\n",
    "class ConvNeuralNetwork(nn.Module):\n",
    "    def __init__(self):\n",
    "        super().__init__()\n",
    "        #3 input image channel, 6 output channels, 5x5 square convolution with 0 padding\n",
    "        self.conv_relu_stack = nn.Sequential(\n",
    "            nn.Conv2d(3, 6, kernel_size=5, padding=0),\n",
    "            nn.ReLU(),\n",
    "            nn.Conv2d(6, 16, kernel_size=5, padding=0),\n",
    "            nn.ReLU(),\n",
    "            nn.Conv2d(16, 32, kernel_size=5, padding=0),\n",
    "            nn.ReLU(),\n",
    "            nn.MaxPool2d(kernel_size=5, stride=2)\n",
    "        )\n",
    "        self.flatten = nn.Flatten()\n",
    "        self.linear_relu_stack = nn.Sequential(\n",
    "            nn.Linear(32*64*88, 512),\n",
    "            nn.ReLU(),\n",
    "            nn.Linear(512, 256),\n",
    "            nn.ReLU(),\n",
    "            nn.Dropout(0.25),\n",
    "            nn.Linear(256, 5),\n",
    "            nn.LogSoftmax(dim=1)\n",
    "        )\n",
    "\n",
    "    def forward(self, x):\n",
    "        logits = self.conv_relu_stack(x)\n",
    "        logits = self.flatten(logits)\n",
    "        logits = self.linear_relu_stack(logits)\n",
    "        return logits\n",
    "\n",
    "model = ConvNeuralNetwork().to(device)\n",
    "print(model)"
   ]
  },
  {
   "cell_type": "code",
   "execution_count": 231,
   "metadata": {},
   "outputs": [],
   "source": [
    "def train(dataloader, model, loss_fn, optimizer):\n",
    "    size = len(dataloader.dataset)\n",
    "    loss_result = 0\n",
    "    for batch, (X, y) in enumerate(dataloader):\n",
    "        # add noise to the image\n",
    "        # Compute prediction error\n",
    "        X, y = X.to(device), y.to(device)\n",
    "        pred = model(X)\n",
    "        loss = loss_fn(pred, y)\n",
    "\n",
    "        # Backpropagation\n",
    "        optimizer.zero_grad()\n",
    "        loss.backward()\n",
    "        optimizer.step()\n",
    "        loss_result += loss.item()\n",
    "        if batch % 100 == 0:\n",
    "            loss, current = loss.item(), batch * len(X)\n",
    "            print(f\"loss: {loss:>7f}  [{current:>5d}/{size:>5d}]\")\n",
    "    return loss_result/len(dataloader)"
   ]
  },
  {
   "cell_type": "code",
   "execution_count": 232,
   "metadata": {},
   "outputs": [],
   "source": [
    "class EarlyStopper():\n",
    "    def __init__(self, patience=1, min_delta=0):\n",
    "        self.patience = patience\n",
    "        self.min_delta = min_delta\n",
    "        self.counter = 0\n",
    "        self.min_validation_loss = np.inf\n",
    "\n",
    "    def early_stop(self, validation_loss):\n",
    "        if validation_loss < self.min_validation_loss:\n",
    "            self.min_validation_loss = validation_loss\n",
    "            self.counter = 0\n",
    "        elif validation_loss >= (self.min_validation_loss + self.min_delta):\n",
    "            self.counter += 1\n",
    "            if self.counter >= self.patience:\n",
    "                return True\n",
    "        return False"
   ]
  },
  {
   "cell_type": "code",
   "execution_count": 233,
   "metadata": {},
   "outputs": [],
   "source": [
    "def test(dataloader, model, loss_fn):\n",
    "    size = len(dataloader.dataset)\n",
    "    num_batches = len(dataloader)\n",
    "    model.eval()\n",
    "    test_loss, correct = 0, 0\n",
    "    with torch.no_grad():\n",
    "        for X, y in dataloader:\n",
    "            X, y = X.to(device), y.to(device)\n",
    "            pred = model(X)\n",
    "            test_loss += loss_fn(pred, y).item()\n",
    "            correct += (pred.argmax(1) == y).type(torch.float).sum().item()\n",
    "    test_loss /= num_batches\n",
    "    correct /= size\n",
    "    print(f\"Test Error: \\n Accuracy: {(100*correct):>0.1f}%, Avg loss: {test_loss:>8f} \\n\")\n",
    "    return test_loss"
   ]
  },
  {
   "cell_type": "code",
   "execution_count": 234,
   "metadata": {},
   "outputs": [],
   "source": [
    "#model parameters\n",
    "learning_rate = 1e-3\n",
    "epochs = 100\n",
    "loss_fn = nn.NLLLoss()\n",
    "optimizer = torch.optim.SGD(model.parameters(), lr=learning_rate)"
   ]
  },
  {
   "cell_type": "code",
   "execution_count": 235,
   "metadata": {},
   "outputs": [
    {
     "name": "stdout",
     "output_type": "stream",
     "text": [
      "Epoch 1\n",
      "-------------------------------\n",
      "loss: 1.971334  [    0/ 9600]\n",
      "loss: 1.116370  [ 1600/ 9600]\n",
      "loss: 0.794897  [ 3200/ 9600]\n",
      "loss: 0.560242  [ 4800/ 9600]\n",
      "loss: 0.779354  [ 6400/ 9600]\n",
      "loss: 0.122206  [ 8000/ 9600]\n",
      "Test Error: \n",
      " Accuracy: 44.2%, Avg loss: 2.114577 \n",
      "\n",
      "Epoch 2\n",
      "-------------------------------\n",
      "loss: 0.156945  [    0/ 9600]\n",
      "loss: 0.033388  [ 1600/ 9600]\n",
      "loss: 0.017221  [ 3200/ 9600]\n",
      "loss: 0.066246  [ 4800/ 9600]\n",
      "loss: 0.012286  [ 6400/ 9600]\n",
      "loss: 0.001119  [ 8000/ 9600]\n",
      "Test Error: \n",
      " Accuracy: 38.2%, Avg loss: 4.127363 \n",
      "\n",
      "Early stopping\n",
      "Done!\n"
     ]
    }
   ],
   "source": [
    "#train model\n",
    "early_stopping = EarlyStopper()\n",
    "for t in range(epochs):\n",
    "    print(f\"Epoch {t+1}\\n-------------------------------\")\n",
    "    train_loss = train(DataLoader_Train, model, loss_fn, optimizer)\n",
    "    test_loss = test(DataLoader_Test, model, loss_fn)\n",
    "    if early_stopping.early_stop(test_loss):\n",
    "        print(\"Early stopping\")\n",
    "        break\n",
    "print(\"Done!\")"
   ]
  },
  {
   "cell_type": "code",
   "execution_count": 236,
   "metadata": {},
   "outputs": [],
   "source": [
    "def predict_image(img, model):\n",
    "    xb = img.unsqueeze(0)\n",
    "    xb = xb.to(device)\n",
    "    xb = xb.float()\n",
    "    yb = model(xb)\n",
    "    _, preds  = torch.max(yb, dim=1)\n",
    "    return preds[0].item()"
   ]
  },
  {
   "cell_type": "code",
   "execution_count": 237,
   "metadata": {},
   "outputs": [
    {
     "ename": "RuntimeError",
     "evalue": "[Errno 2] No such file or directory: './data_split/val/13_i190.png'",
     "output_type": "error",
     "traceback": [
      "\u001b[1;31m---------------------------------------------------------------------------\u001b[0m",
      "\u001b[1;31mRuntimeError\u001b[0m                              Traceback (most recent call last)",
      "Cell \u001b[1;32mIn[237], line 3\u001b[0m\n\u001b[0;32m      1\u001b[0m test_image_path \u001b[39m=\u001b[39m \u001b[39m\"\u001b[39m\u001b[39m./data_split/val/13_i190.png\u001b[39m\u001b[39m\"\u001b[39m\n\u001b[0;32m      2\u001b[0m img_name \u001b[39m=\u001b[39m test_image_path\u001b[39m.\u001b[39msplit(\u001b[39m\"\u001b[39m\u001b[39m/\u001b[39m\u001b[39m\"\u001b[39m)[\u001b[39m-\u001b[39m\u001b[39m1\u001b[39m]\n\u001b[1;32m----> 3\u001b[0m test_image \u001b[39m=\u001b[39m read_image(test_image_path)\n\u001b[0;32m      5\u001b[0m shower \u001b[39m=\u001b[39m plt\u001b[39m.\u001b[39mimread(test_image_path)\n\u001b[0;32m      6\u001b[0m plt\u001b[39m.\u001b[39mimshow(shower)\n",
      "File \u001b[1;32mc:\\Users\\Frank\\anaconda3\\envs\\torch\\lib\\site-packages\\torchvision\\io\\image.py:253\u001b[0m, in \u001b[0;36mread_image\u001b[1;34m(path, mode)\u001b[0m\n\u001b[0;32m    251\u001b[0m \u001b[39mif\u001b[39;00m \u001b[39mnot\u001b[39;00m torch\u001b[39m.\u001b[39mjit\u001b[39m.\u001b[39mis_scripting() \u001b[39mand\u001b[39;00m \u001b[39mnot\u001b[39;00m torch\u001b[39m.\u001b[39mjit\u001b[39m.\u001b[39mis_tracing():\n\u001b[0;32m    252\u001b[0m     _log_api_usage_once(read_image)\n\u001b[1;32m--> 253\u001b[0m data \u001b[39m=\u001b[39m read_file(path)\n\u001b[0;32m    254\u001b[0m \u001b[39mreturn\u001b[39;00m decode_image(data, mode)\n",
      "File \u001b[1;32mc:\\Users\\Frank\\anaconda3\\envs\\torch\\lib\\site-packages\\torchvision\\io\\image.py:47\u001b[0m, in \u001b[0;36mread_file\u001b[1;34m(path)\u001b[0m\n\u001b[0;32m     45\u001b[0m \u001b[39mif\u001b[39;00m \u001b[39mnot\u001b[39;00m torch\u001b[39m.\u001b[39mjit\u001b[39m.\u001b[39mis_scripting() \u001b[39mand\u001b[39;00m \u001b[39mnot\u001b[39;00m torch\u001b[39m.\u001b[39mjit\u001b[39m.\u001b[39mis_tracing():\n\u001b[0;32m     46\u001b[0m     _log_api_usage_once(read_file)\n\u001b[1;32m---> 47\u001b[0m data \u001b[39m=\u001b[39m torch\u001b[39m.\u001b[39;49mops\u001b[39m.\u001b[39;49mimage\u001b[39m.\u001b[39;49mread_file(path)\n\u001b[0;32m     48\u001b[0m \u001b[39mreturn\u001b[39;00m data\n",
      "File \u001b[1;32mc:\\Users\\Frank\\anaconda3\\envs\\torch\\lib\\site-packages\\torch\\_ops.py:442\u001b[0m, in \u001b[0;36mOpOverloadPacket.__call__\u001b[1;34m(self, *args, **kwargs)\u001b[0m\n\u001b[0;32m    437\u001b[0m \u001b[39mdef\u001b[39;00m \u001b[39m__call__\u001b[39m(\u001b[39mself\u001b[39m, \u001b[39m*\u001b[39margs, \u001b[39m*\u001b[39m\u001b[39m*\u001b[39mkwargs):\n\u001b[0;32m    438\u001b[0m     \u001b[39m# overloading __call__ to ensure torch.ops.foo.bar()\u001b[39;00m\n\u001b[0;32m    439\u001b[0m     \u001b[39m# is still callable from JIT\u001b[39;00m\n\u001b[0;32m    440\u001b[0m     \u001b[39m# We save the function ptr as the `op` attribute on\u001b[39;00m\n\u001b[0;32m    441\u001b[0m     \u001b[39m# OpOverloadPacket to access it here.\u001b[39;00m\n\u001b[1;32m--> 442\u001b[0m     \u001b[39mreturn\u001b[39;00m \u001b[39mself\u001b[39m\u001b[39m.\u001b[39m_op(\u001b[39m*\u001b[39margs, \u001b[39m*\u001b[39m\u001b[39m*\u001b[39mkwargs \u001b[39mor\u001b[39;00m {})\n",
      "\u001b[1;31mRuntimeError\u001b[0m: [Errno 2] No such file or directory: './data_split/val/13_i190.png'"
     ]
    }
   ],
   "source": [
    "test_image_path = \"./data_split/val/13_i190.png\"\n",
    "img_name = test_image_path.split(\"/\")[-1]\n",
    "test_image = read_image(test_image_path)\n",
    "\n",
    "shower = plt.imread(test_image_path)\n",
    "plt.imshow(shower)\n"
   ]
  },
  {
   "cell_type": "code",
   "execution_count": null,
   "metadata": {},
   "outputs": [],
   "source": [
    "\n",
    "# function to return key for any value\n",
    "def get_key(val, my_dict):\n",
    "    for key, value in my_dict.items():\n",
    "        if val == value:\n",
    "            return key\n",
    " \n",
    "    return \"key doesn't exist\""
   ]
  },
  {
   "cell_type": "code",
   "execution_count": null,
   "metadata": {},
   "outputs": [
    {
     "name": "stdout",
     "output_type": "stream",
     "text": [
      "Predicted class: ('plastic', 0)\n",
      "Actual class: paper\n"
     ]
    }
   ],
   "source": [
    "result = predict_image(test_image, model)\n",
    "result_label = get_key(result, material_label)\n",
    "\n",
    "actual_label_table = pd.read_csv(\"./top4_materials.csv\")\n",
    "actual_label = actual_label_table[actual_label_table[\"name_img\"] == img_name][\"material\"].values[0]\n",
    "print(f\"Predicted class: {result_label,result}\")\n",
    "print(f\"Actual class: {actual_label}\")\n"
   ]
  },
  {
   "cell_type": "code",
   "execution_count": null,
   "metadata": {},
   "outputs": [],
   "source": [
    "def confusionMatrix(model, dataloader):\n",
    "    confusion_matrix = torch.zeros(5, 5)\n",
    "    with torch.no_grad():\n",
    "        total = 0\n",
    "        for i, (inputs, classes) in enumerate(dataloader):\n",
    "            inputs = inputs.to(device)\n",
    "            classes = classes.to(device)\n",
    "            outputs = model(inputs)\n",
    "            _, preds = torch.max(outputs, 1)\n",
    "            for t, p in zip(classes.view(-1), preds.view(-1)):\n",
    "                    confusion_matrix[t.long(), p.long()] += 1\n",
    "    return confusion_matrix"
   ]
  },
  {
   "cell_type": "code",
   "execution_count": null,
   "metadata": {},
   "outputs": [],
   "source": [
    "confusion_matrix = confusionMatrix(model, DataLoader_Test)"
   ]
  },
  {
   "cell_type": "code",
   "execution_count": null,
   "metadata": {},
   "outputs": [
    {
     "data": {
      "text/plain": [
       "tensor([[118.,  23.,   0.,  22., 245.],\n",
       "        [  0.,   0.,   0.,  12.,  12.],\n",
       "        [ 36.,   0.,  14.,   0.,  10.],\n",
       "        [ 34.,   9.,  12.,   0.,  65.],\n",
       "        [199.,  15.,  25.,  59., 290.]])"
      ]
     },
     "execution_count": 195,
     "metadata": {},
     "output_type": "execute_result"
    }
   ],
   "source": [
    "confusion_matrix"
   ]
  },
  {
   "cell_type": "code",
   "execution_count": null,
   "metadata": {},
   "outputs": [
    {
     "data": {
      "text/plain": [
       "{'plastic': 0, 'metal': 1, 'paper': 2, 'wood': 3, 'other': 4}"
      ]
     },
     "execution_count": 196,
     "metadata": {},
     "output_type": "execute_result"
    }
   ],
   "source": [
    "material_label"
   ]
  },
  {
   "cell_type": "code",
   "execution_count": null,
   "metadata": {},
   "outputs": [
    {
     "data": {
      "text/plain": [
       "Text(0.5, 1.0, 'Confusion matrix')"
      ]
     },
     "execution_count": 197,
     "metadata": {},
     "output_type": "execute_result"
    },
    {
     "data": {
      "image/png": "[encoded data removed]",
      "text/plain": [
       "<Figure size 1000x1000 with 2 Axes>"
      ]
     },
     "metadata": {},
     "output_type": "display_data"
    }
   ],
   "source": [
    "# Plot confusion matrix\n",
    "plt.figure(figsize=(10,10))\n",
    "sns.heatmap(confusion_matrix, annot=True, fmt=\".1f\")\n",
    "plt.ylabel('Actual label')\n",
    "plt.xlabel('Predicted label')\n",
    "plt.title(\"Confusion matrix\")"
   ]
  },
  {
   "cell_type": "code",
   "execution_count": null,
   "metadata": {},
   "outputs": [
    {
     "data": {
      "text/plain": [
       "torch.Size([32, 64, 88])"
      ]
     },
     "execution_count": 198,
     "metadata": {},
     "output_type": "execute_result"
    }
   ],
   "source": [
    "random = torch.rand(3,144, 192)\n",
    "conv1 = nn.Conv2d(3, 6, 5)\n",
    "conv2 = nn.Conv2d(6, 16, 5)\n",
    "conv3 = nn.Conv2d(16, 32, 5)\n",
    "pool = nn.MaxPool2d(5, 2)\n",
    "\n",
    "out = conv1(random)\n",
    "out = conv2(out)\n",
    "out = conv3(out)\n",
    "out = pool(out)\n",
    "out.shape"
   ]
  }
 ],
 "metadata": {
  "kernelspec": {
   "display_name": "torch",
   "language": "python",
   "name": "python3"
  },
  "language_info": {
   "codemirror_mode": {
    "name": "ipython",
    "version": 3
   },
   "file_extension": ".py",
   "mimetype": "text/x-python",
   "name": "python",
   "nbconvert_exporter": "python",
   "pygments_lexer": "ipython3",
   "version": "3.9.15"
  },
  "orig_nbformat": 4,
  "vscode": {
   "interpreter": {
    "hash": "4a71982e2765f6eb6b33820c8a9a4dd21ae31a9aa60cef222f62c4fbc4323d02"
   }
  }
 },
 "nbformat": 4,
 "nbformat_minor": 2
}
