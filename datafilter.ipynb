{
 "cells": [
  {
   "attachments": {},
   "cell_type": "markdown",
   "metadata": {},
   "source": [
    "<div>This file creates the filtered data set used for training the final model.</div>\n",
    "<div> \n",
    "Preconditions files:\n",
    "</div>\n",
    "\n",
    "- aloi_red4_col/png images folder\n",
    "- annotations_text.csv\n",
    "- annotations_encoded.csv\n",
    "\n",
    "<div> \n",
    "Criteria's:\n",
    "</div>\n",
    "\n",
    "- We keep each set of object images seperate from training/val/test set (i.e. image folder 13 put in training, then these images will only occur there)\n",
    "- split is done 80/10/10\n",
    "- Top 4 classes and remainders and unique object occurence: ('plastic', 290), ('other', 240), ('paper', 77), ('wood', 68), ('metal', 62)| (if you want total images just multiply that count by 12)\n"
   ]
  },
  {
   "cell_type": "code",
   "execution_count": 2,
   "metadata": {},
   "outputs": [
    {
     "name": "stderr",
     "output_type": "stream",
     "text": [
      "c:\\Users\\Frank\\anaconda3\\envs\\torch\\lib\\site-packages\\tqdm\\auto.py:22: TqdmWarning: IProgress not found. Please update jupyter and ipywidgets. See https://ipywidgets.readthedocs.io/en/stable/user_install.html\n",
      "  from .autonotebook import tqdm as notebook_tqdm\n"
     ]
    }
   ],
   "source": [
    "import pandas as pd\n",
    "import numpy as np\n",
    "import torch\n",
    "import os\n",
    "import shutil\n",
    "import sklearn"
   ]
  },
  {
   "cell_type": "code",
   "execution_count": 3,
   "metadata": {},
   "outputs": [],
   "source": [
    "df = pd.read_csv('annotations_text.csv')"
   ]
  },
  {
   "cell_type": "code",
   "execution_count": 4,
   "metadata": {},
   "outputs": [],
   "source": [
    "#convert material string back to list\n",
    "def convert_to_list(x):\n",
    "    x = x.replace('[','')\n",
    "    x = x.replace(']','')\n",
    "    x = x.replace('\\'','')\n",
    "    x = x.replace('\\'','')\n",
    "    x = x.replace(' ','')\n",
    "    x = x.split(',')\n",
    "    return x\n",
    "\n",
    "test = df['Material'][0]"
   ]
  },
  {
   "cell_type": "code",
   "execution_count": 5,
   "metadata": {},
   "outputs": [],
   "source": [
    "df['Material'] = df['Material'].apply(convert_to_list)"
   ]
  },
  {
   "cell_type": "code",
   "execution_count": 6,
   "metadata": {},
   "outputs": [
    {
     "data": {
      "text/html": [
       "<div>\n",
       "<style scoped>\n",
       "    .dataframe tbody tr th:only-of-type {\n",
       "        vertical-align: middle;\n",
       "    }\n",
       "\n",
       "    .dataframe tbody tr th {\n",
       "        vertical-align: top;\n",
       "    }\n",
       "\n",
       "    .dataframe thead th {\n",
       "        text-align: right;\n",
       "    }\n",
       "</style>\n",
       "<table border=\"1\" class=\"dataframe\">\n",
       "  <thead>\n",
       "    <tr style=\"text-align: right;\">\n",
       "      <th></th>\n",
       "      <th>Unnamed: 0</th>\n",
       "      <th>No.</th>\n",
       "      <th>Object name</th>\n",
       "      <th>Material</th>\n",
       "      <th>Stained</th>\n",
       "      <th>Surface properties</th>\n",
       "    </tr>\n",
       "  </thead>\n",
       "  <tbody>\n",
       "    <tr>\n",
       "      <th>0</th>\n",
       "      <td>0</td>\n",
       "      <td>1</td>\n",
       "      <td>Christmas bear</td>\n",
       "      <td>[cloth]</td>\n",
       "      <td>['pluriform']</td>\n",
       "      <td>['']</td>\n",
       "    </tr>\n",
       "    <tr>\n",
       "      <th>1</th>\n",
       "      <td>1</td>\n",
       "      <td>2</td>\n",
       "      <td>Lab-keys</td>\n",
       "      <td>[metal, cloth]</td>\n",
       "      <td>['']</td>\n",
       "      <td>['composite', 'shiny']</td>\n",
       "    </tr>\n",
       "    <tr>\n",
       "      <th>2</th>\n",
       "      <td>2</td>\n",
       "      <td>3</td>\n",
       "      <td>Apricot</td>\n",
       "      <td>[fruit]</td>\n",
       "      <td>['uniform']</td>\n",
       "      <td>['']</td>\n",
       "    </tr>\n",
       "    <tr>\n",
       "      <th>3</th>\n",
       "      <td>3</td>\n",
       "      <td>4</td>\n",
       "      <td>Round candle</td>\n",
       "      <td>[candle, metal]</td>\n",
       "      <td>['']</td>\n",
       "      <td>['composite', 'shiny']</td>\n",
       "    </tr>\n",
       "    <tr>\n",
       "      <th>4</th>\n",
       "      <td>4</td>\n",
       "      <td>5</td>\n",
       "      <td>Nut</td>\n",
       "      <td>[wood]</td>\n",
       "      <td>['uniform']</td>\n",
       "      <td>['ribbed']</td>\n",
       "    </tr>\n",
       "    <tr>\n",
       "      <th>...</th>\n",
       "      <td>...</td>\n",
       "      <td>...</td>\n",
       "      <td>...</td>\n",
       "      <td>...</td>\n",
       "      <td>...</td>\n",
       "      <td>...</td>\n",
       "    </tr>\n",
       "    <tr>\n",
       "      <th>995</th>\n",
       "      <td>995</td>\n",
       "      <td>996</td>\n",
       "      <td>lotion</td>\n",
       "      <td>[plastic, paper]</td>\n",
       "      <td>['pluriform']</td>\n",
       "      <td>['shiny', 'composite']</td>\n",
       "    </tr>\n",
       "    <tr>\n",
       "      <th>996</th>\n",
       "      <td>996</td>\n",
       "      <td>997</td>\n",
       "      <td>cleansing milk</td>\n",
       "      <td>[plastic, paper]</td>\n",
       "      <td>['pluriform']</td>\n",
       "      <td>['shiny', 'composite']</td>\n",
       "    </tr>\n",
       "    <tr>\n",
       "      <th>997</th>\n",
       "      <td>997</td>\n",
       "      <td>998</td>\n",
       "      <td>vogue deodorant</td>\n",
       "      <td>[metal, plastic]</td>\n",
       "      <td>['pluriform']</td>\n",
       "      <td>['shiny', 'composite']</td>\n",
       "    </tr>\n",
       "    <tr>\n",
       "      <th>998</th>\n",
       "      <td>998</td>\n",
       "      <td>999</td>\n",
       "      <td>ALOI recording</td>\n",
       "      <td>[metal, plastic]</td>\n",
       "      <td>['uniform']</td>\n",
       "      <td>['shiny', 'composite']</td>\n",
       "    </tr>\n",
       "    <tr>\n",
       "      <th>999</th>\n",
       "      <td>999</td>\n",
       "      <td>1000</td>\n",
       "      <td>strawberry cake</td>\n",
       "      <td>[food]</td>\n",
       "      <td>['pluriform']</td>\n",
       "      <td>['']</td>\n",
       "    </tr>\n",
       "  </tbody>\n",
       "</table>\n",
       "<p>1000 rows × 6 columns</p>\n",
       "</div>"
      ],
      "text/plain": [
       "     Unnamed: 0   No.       Object name          Material        Stained  \\\n",
       "0             0     1   Christmas bear            [cloth]  ['pluriform']   \n",
       "1             1     2         Lab-keys     [metal, cloth]           ['']   \n",
       "2             2     3         Apricot             [fruit]    ['uniform']   \n",
       "3             3     4     Round candle    [candle, metal]           ['']   \n",
       "4             4     5              Nut             [wood]    ['uniform']   \n",
       "..          ...   ...               ...               ...            ...   \n",
       "995         995   996           lotion   [plastic, paper]  ['pluriform']   \n",
       "996         996   997   cleansing milk   [plastic, paper]  ['pluriform']   \n",
       "997         997   998  vogue deodorant   [metal, plastic]  ['pluriform']   \n",
       "998         998   999   ALOI recording   [metal, plastic]    ['uniform']   \n",
       "999         999  1000  strawberry cake             [food]  ['pluriform']   \n",
       "\n",
       "         Surface properties  \n",
       "0                      ['']  \n",
       "1    ['composite', 'shiny']  \n",
       "2                      ['']  \n",
       "3    ['composite', 'shiny']  \n",
       "4                ['ribbed']  \n",
       "..                      ...  \n",
       "995  ['shiny', 'composite']  \n",
       "996  ['shiny', 'composite']  \n",
       "997  ['shiny', 'composite']  \n",
       "998  ['shiny', 'composite']  \n",
       "999                    ['']  \n",
       "\n",
       "[1000 rows x 6 columns]"
      ]
     },
     "execution_count": 6,
     "metadata": {},
     "output_type": "execute_result"
    }
   ],
   "source": [
    "df"
   ]
  },
  {
   "cell_type": "code",
   "execution_count": 7,
   "metadata": {},
   "outputs": [
    {
     "data": {
      "text/plain": [
       "[('plastic', 290),\n",
       " ('other', 240),\n",
       " ('paper', 77),\n",
       " ('wood', 68),\n",
       " ('metal', 62),\n",
       " ('pottery', 58),\n",
       " ('cloth', 48),\n",
       " ('fruit', 29),\n",
       " ('vegetable', 24),\n",
       " ('stone', 17),\n",
       " ('glass', 17),\n",
       " ('shell', 13),\n",
       " ('food', 13),\n",
       " ('rubber', 9),\n",
       " ('candle', 6),\n",
       " ('', 6),\n",
       " ('sponge', 5),\n",
       " ('rope', 5),\n",
       " ('flower', 4),\n",
       " ('wire', 3),\n",
       " ('copper', 2),\n",
       " ('cane', 1),\n",
       " ('foam', 1),\n",
       " ('cotton', 1),\n",
       " ('feathers', 1)]"
      ]
     },
     "execution_count": 7,
     "metadata": {},
     "output_type": "execute_result"
    }
   ],
   "source": [
    "#count frequency of materials only for singular materials\n",
    "\n",
    "material_list = {\"other\": 0}\n",
    "\n",
    "for i in range(len(df)):\n",
    "    if len(df['Material'][i]) == 1:\n",
    "        if df['Material'][i][0] in material_list:\n",
    "            material_list[df['Material'][i][0]] += 1\n",
    "        else:\n",
    "            material_list[df['Material'][i][0]] = 1\n",
    "    else:\n",
    "        material_list[\"other\"] += 1\n",
    "#sort material list by frequency\n",
    "material_list = sorted(material_list.items(), key=lambda x: x[1], reverse=True)\n",
    "material_list"
   ]
  },
  {
   "cell_type": "code",
   "execution_count": 8,
   "metadata": {},
   "outputs": [],
   "source": [
    "#count frequency of materials only for singular materials by top 4 materials\n",
    "\n",
    "material_list = {\"other\": 0, 'plastic':0, 'paper':0, 'wood':0, 'metal':0}\n",
    "\n",
    "for i in range(len(df)):\n",
    "    if len(df['Material'][i]) == 1:\n",
    "        if df['Material'][i][0] == 'plastic':\n",
    "            material_list[\"plastic\"] += 1\n",
    "        elif df['Material'][i][0] == 'paper':\n",
    "            material_list[\"paper\"] += 1\n",
    "        elif df['Material'][i][0] == 'wood':\n",
    "            material_list[\"wood\"] += 1\n",
    "        elif df['Material'][i][0] == 'metal':\n",
    "            material_list[\"metal\"] += 1\n",
    "        else:\n",
    "            material_list[\"other\"] += 1\n",
    "    \n",
    "\n",
    "#sort material list by frequency\n",
    "material_list = sorted(material_list.items(), key=lambda x: x[1], reverse=True)\n"
   ]
  },
  {
   "cell_type": "code",
   "execution_count": 9,
   "metadata": {},
   "outputs": [
    {
     "data": {
      "text/plain": [
       "[('plastic', 290), ('other', 263), ('paper', 77), ('wood', 68), ('metal', 62)]"
      ]
     },
     "execution_count": 9,
     "metadata": {},
     "output_type": "execute_result"
    }
   ],
   "source": [
    "material_list"
   ]
  },
  {
   "attachments": {},
   "cell_type": "markdown",
   "metadata": {},
   "source": [
    "Create new csv name and class column:\n",
    "\n",
    "- plastic\n",
    "- other\n",
    "- paper\n",
    "- wood\n",
    "- metal"
   ]
  },
  {
   "cell_type": "code",
   "execution_count": 10,
   "metadata": {},
   "outputs": [
    {
     "data": {
      "image/png": "[encoded data removed]",
      "text/plain": [
       "<Figure size 640x480 with 1 Axes>"
      ]
     },
     "metadata": {},
     "output_type": "display_data"
    }
   ],
   "source": [
    "#histogram of material frequency\n",
    "import matplotlib.pyplot as plt\n",
    "plt.bar([x[0] for x in material_list], [x[1] for x in material_list])\n",
    "plt.title('Material Frequency: unqiue items (non-plural)')\n",
    "plt.show()"
   ]
  },
  {
   "cell_type": "code",
   "execution_count": 11,
   "metadata": {},
   "outputs": [],
   "source": [
    "#create dataframe name_img, material for top 4 materials and other\n",
    "df_top4 = pd.DataFrame(columns=['name_img', 'material'])\n",
    "image_source = \"./aloi_red4_col/png4/\"\n",
    "\n",
    "count = 0\n",
    "for folder in os.listdir(image_source):\n",
    "    item_nr = int(folder)\n",
    "    for image in os.listdir(image_source + folder):\n",
    "        count += 1\n",
    "        name_img = image\n",
    "        material = df[\"Material\"][item_nr-1]\n",
    "        material_name = \"\"\n",
    "        if (len(material) == 1):\n",
    "            if (material[0] == 'plastic'):\n",
    "                material_name = \"plastic\"\n",
    "            elif (material[0] == 'paper'):\n",
    "                material_name = \"paper\"\n",
    "            elif (material[0] == 'wood'):\n",
    "                material_name = \"wood\"\n",
    "            elif (material[0] == 'metal'):\n",
    "                material_name = \"metal\"\n",
    "            else:\n",
    "                material_name = \"other\"\n",
    "            df_top4.loc[count] = [name_img, material_name]\n"
   ]
  },
  {
   "cell_type": "code",
   "execution_count": 12,
   "metadata": {},
   "outputs": [],
   "source": [
    "#save csv file\n",
    "df_top4.to_csv('top4_materials.csv', index=False)"
   ]
  },
  {
   "cell_type": "code",
   "execution_count": 13,
   "metadata": {},
   "outputs": [
    {
     "ename": "FileExistsError",
     "evalue": "[WinError 183] Cannot create a file when that file already exists: './top4_materials_non_plural/1'",
     "output_type": "error",
     "traceback": [
      "\u001b[1;31m---------------------------------------------------------------------------\u001b[0m",
      "\u001b[1;31mFileExistsError\u001b[0m                           Traceback (most recent call last)",
      "Cell \u001b[1;32mIn[13], line 13\u001b[0m\n\u001b[0;32m     11\u001b[0m material \u001b[39m=\u001b[39m df[\u001b[39m\"\u001b[39m\u001b[39mMaterial\u001b[39m\u001b[39m\"\u001b[39m][item_nr\u001b[39m-\u001b[39m\u001b[39m1\u001b[39m]\n\u001b[0;32m     12\u001b[0m \u001b[39mif\u001b[39;00m (\u001b[39mlen\u001b[39m(material) \u001b[39m==\u001b[39m \u001b[39m1\u001b[39m):\n\u001b[1;32m---> 13\u001b[0m     shutil\u001b[39m.\u001b[39;49mcopytree(image_source \u001b[39m+\u001b[39;49m folder, image_dest \u001b[39m+\u001b[39;49m folder)\n",
      "File \u001b[1;32mc:\\Users\\Frank\\anaconda3\\envs\\torch\\lib\\shutil.py:568\u001b[0m, in \u001b[0;36mcopytree\u001b[1;34m(src, dst, symlinks, ignore, copy_function, ignore_dangling_symlinks, dirs_exist_ok)\u001b[0m\n\u001b[0;32m    566\u001b[0m \u001b[39mwith\u001b[39;00m os\u001b[39m.\u001b[39mscandir(src) \u001b[39mas\u001b[39;00m itr:\n\u001b[0;32m    567\u001b[0m     entries \u001b[39m=\u001b[39m \u001b[39mlist\u001b[39m(itr)\n\u001b[1;32m--> 568\u001b[0m \u001b[39mreturn\u001b[39;00m _copytree(entries\u001b[39m=\u001b[39;49mentries, src\u001b[39m=\u001b[39;49msrc, dst\u001b[39m=\u001b[39;49mdst, symlinks\u001b[39m=\u001b[39;49msymlinks,\n\u001b[0;32m    569\u001b[0m                  ignore\u001b[39m=\u001b[39;49mignore, copy_function\u001b[39m=\u001b[39;49mcopy_function,\n\u001b[0;32m    570\u001b[0m                  ignore_dangling_symlinks\u001b[39m=\u001b[39;49mignore_dangling_symlinks,\n\u001b[0;32m    571\u001b[0m                  dirs_exist_ok\u001b[39m=\u001b[39;49mdirs_exist_ok)\n",
      "File \u001b[1;32mc:\\Users\\Frank\\anaconda3\\envs\\torch\\lib\\shutil.py:467\u001b[0m, in \u001b[0;36m_copytree\u001b[1;34m(entries, src, dst, symlinks, ignore, copy_function, ignore_dangling_symlinks, dirs_exist_ok)\u001b[0m\n\u001b[0;32m    464\u001b[0m \u001b[39melse\u001b[39;00m:\n\u001b[0;32m    465\u001b[0m     ignored_names \u001b[39m=\u001b[39m \u001b[39mset\u001b[39m()\n\u001b[1;32m--> 467\u001b[0m os\u001b[39m.\u001b[39;49mmakedirs(dst, exist_ok\u001b[39m=\u001b[39;49mdirs_exist_ok)\n\u001b[0;32m    468\u001b[0m errors \u001b[39m=\u001b[39m []\n\u001b[0;32m    469\u001b[0m use_srcentry \u001b[39m=\u001b[39m copy_function \u001b[39mis\u001b[39;00m copy2 \u001b[39mor\u001b[39;00m copy_function \u001b[39mis\u001b[39;00m copy\n",
      "File \u001b[1;32mc:\\Users\\Frank\\anaconda3\\envs\\torch\\lib\\os.py:225\u001b[0m, in \u001b[0;36mmakedirs\u001b[1;34m(name, mode, exist_ok)\u001b[0m\n\u001b[0;32m    223\u001b[0m         \u001b[39mreturn\u001b[39;00m\n\u001b[0;32m    224\u001b[0m \u001b[39mtry\u001b[39;00m:\n\u001b[1;32m--> 225\u001b[0m     mkdir(name, mode)\n\u001b[0;32m    226\u001b[0m \u001b[39mexcept\u001b[39;00m \u001b[39mOSError\u001b[39;00m:\n\u001b[0;32m    227\u001b[0m     \u001b[39m# Cannot rely on checking for EEXIST, since the operating system\u001b[39;00m\n\u001b[0;32m    228\u001b[0m     \u001b[39m# could give priority to other errors like EACCES or EROFS\u001b[39;00m\n\u001b[0;32m    229\u001b[0m     \u001b[39mif\u001b[39;00m \u001b[39mnot\u001b[39;00m exist_ok \u001b[39mor\u001b[39;00m \u001b[39mnot\u001b[39;00m path\u001b[39m.\u001b[39misdir(name):\n",
      "\u001b[1;31mFileExistsError\u001b[0m: [WinError 183] Cannot create a file when that file already exists: './top4_materials_non_plural/1'"
     ]
    }
   ],
   "source": [
    "#copy images to new folder\n",
    "image_source = \"./aloi_red4_col/png4/\"\n",
    "image_dest = \"./top4_materials_non_plural/\"\n",
    "\n",
    "if not os.path.exists(image_dest):\n",
    "    os.makedirs(image_dest)\n",
    "\n",
    "\n",
    "for folder in os.listdir(image_source):\n",
    "    item_nr = int(folder)\n",
    "    material = df[\"Material\"][item_nr-1]\n",
    "    if (len(material) == 1):\n",
    "        shutil.copytree(image_source + folder, image_dest + folder)"
   ]
  },
  {
   "cell_type": "code",
   "execution_count": null,
   "metadata": {},
   "outputs": [],
   "source": [
    "#calculate the weight of each material\n",
    "#general formula is as follow suppose we have 3 classes with probability p1, p2, p3\n",
    "#Then ideally we want p1=1/3, p2=1/3, p3=1/3\n",
    "#so w_1 is such that p1*w_1 = 1/3"
   ]
  },
  {
   "cell_type": "code",
   "execution_count": 14,
   "metadata": {},
   "outputs": [
    {
     "data": {
      "text/html": [
       "<div>\n",
       "<style scoped>\n",
       "    .dataframe tbody tr th:only-of-type {\n",
       "        vertical-align: middle;\n",
       "    }\n",
       "\n",
       "    .dataframe tbody tr th {\n",
       "        vertical-align: top;\n",
       "    }\n",
       "\n",
       "    .dataframe thead th {\n",
       "        text-align: right;\n",
       "    }\n",
       "</style>\n",
       "<table border=\"1\" class=\"dataframe\">\n",
       "  <thead>\n",
       "    <tr style=\"text-align: right;\">\n",
       "      <th></th>\n",
       "      <th>name_img</th>\n",
       "      <th>material</th>\n",
       "    </tr>\n",
       "  </thead>\n",
       "  <tbody>\n",
       "    <tr>\n",
       "      <th>0</th>\n",
       "      <td>1_i110.png</td>\n",
       "      <td>other</td>\n",
       "    </tr>\n",
       "    <tr>\n",
       "      <th>1</th>\n",
       "      <td>1_i120.png</td>\n",
       "      <td>other</td>\n",
       "    </tr>\n",
       "    <tr>\n",
       "      <th>2</th>\n",
       "      <td>1_i130.png</td>\n",
       "      <td>other</td>\n",
       "    </tr>\n",
       "    <tr>\n",
       "      <th>3</th>\n",
       "      <td>1_i140.png</td>\n",
       "      <td>other</td>\n",
       "    </tr>\n",
       "    <tr>\n",
       "      <th>4</th>\n",
       "      <td>1_i150.png</td>\n",
       "      <td>other</td>\n",
       "    </tr>\n",
       "    <tr>\n",
       "      <th>...</th>\n",
       "      <td>...</td>\n",
       "      <td>...</td>\n",
       "    </tr>\n",
       "    <tr>\n",
       "      <th>9115</th>\n",
       "      <td>995_i180.png</td>\n",
       "      <td>other</td>\n",
       "    </tr>\n",
       "    <tr>\n",
       "      <th>9116</th>\n",
       "      <td>995_i190.png</td>\n",
       "      <td>other</td>\n",
       "    </tr>\n",
       "    <tr>\n",
       "      <th>9117</th>\n",
       "      <td>995_i210.png</td>\n",
       "      <td>other</td>\n",
       "    </tr>\n",
       "    <tr>\n",
       "      <th>9118</th>\n",
       "      <td>995_i230.png</td>\n",
       "      <td>other</td>\n",
       "    </tr>\n",
       "    <tr>\n",
       "      <th>9119</th>\n",
       "      <td>995_i250.png</td>\n",
       "      <td>other</td>\n",
       "    </tr>\n",
       "  </tbody>\n",
       "</table>\n",
       "<p>9120 rows × 2 columns</p>\n",
       "</div>"
      ],
      "text/plain": [
       "          name_img material\n",
       "0       1_i110.png    other\n",
       "1       1_i120.png    other\n",
       "2       1_i130.png    other\n",
       "3       1_i140.png    other\n",
       "4       1_i150.png    other\n",
       "...            ...      ...\n",
       "9115  995_i180.png    other\n",
       "9116  995_i190.png    other\n",
       "9117  995_i210.png    other\n",
       "9118  995_i230.png    other\n",
       "9119  995_i250.png    other\n",
       "\n",
       "[9120 rows x 2 columns]"
      ]
     },
     "execution_count": 14,
     "metadata": {},
     "output_type": "execute_result"
    }
   ],
   "source": [
    "#calculate the weight of each material\n",
    "\n",
    "data_frame_top4 = pd.read_csv('top4_materials.csv')\n",
    "data_frame_top4\n"
   ]
  },
  {
   "cell_type": "code",
   "execution_count": 15,
   "metadata": {},
   "outputs": [
    {
     "data": {
      "text/plain": [
       "array(['metal', 'other', 'paper', 'plastic', 'wood'], dtype=object)"
      ]
     },
     "execution_count": 15,
     "metadata": {},
     "output_type": "execute_result"
    }
   ],
   "source": [
    "class_labels = np.unique(data_frame_top4['material'])\n",
    "class_labels"
   ]
  },
  {
   "cell_type": "code",
   "execution_count": 16,
   "metadata": {},
   "outputs": [
    {
     "data": {
      "text/plain": [
       "array([2.4516129 , 0.57794677, 1.97402597, 0.52413793, 2.23529412])"
      ]
     },
     "execution_count": 16,
     "metadata": {},
     "output_type": "execute_result"
    }
   ],
   "source": [
    "sklearn.utils.class_weight.compute_class_weight(class_weight='balanced', classes= class_labels, y=data_frame_top4['material'])"
   ]
  },
  {
   "cell_type": "code",
   "execution_count": null,
   "metadata": {},
   "outputs": [],
   "source": []
  }
 ],
 "metadata": {
  "kernelspec": {
   "display_name": "torch",
   "language": "python",
   "name": "python3"
  },
  "language_info": {
   "codemirror_mode": {
    "name": "ipython",
    "version": 3
   },
   "file_extension": ".py",
   "mimetype": "text/x-python",
   "name": "python",
   "nbconvert_exporter": "python",
   "pygments_lexer": "ipython3",
   "version": "3.9.15 (main, Nov 24 2022, 14:39:17) [MSC v.1916 64 bit (AMD64)]"
  },
  "orig_nbformat": 4,
  "vscode": {
   "interpreter": {
    "hash": "4a71982e2765f6eb6b33820c8a9a4dd21ae31a9aa60cef222f62c4fbc4323d02"
   }
  }
 },
 "nbformat": 4,
 "nbformat_minor": 2
}
